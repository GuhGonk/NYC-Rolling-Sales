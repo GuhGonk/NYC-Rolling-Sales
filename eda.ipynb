{
 "cells": [
  {
   "cell_type": "code",
   "execution_count": 19,
   "metadata": {},
   "outputs": [],
   "source": [
    "# DataFrames\n",
    "import numpy as np\n",
    "import pandas as pd\n",
    "import polars as pl\n",
    "\n",
    "# Graphing utilities\n",
    "import matplotlib.pyplot as plt\n",
    "from matplotlib.dates import YearLocator, DateFormatter\n",
    "import seaborn as sns\n",
    "import plotly.express as px\n",
    "import plotly.graph_objects as go\n",
    "from plotly.subplots import make_subplots\n",
    "\n",
    "from src import graphs\n",
    "\n",
    "# Data cleaning & Database\n",
    "from openpyxl import load_workbook\n",
    "\n",
    "from src import process as proc\n",
    "from src import db_connect\n",
    "# connection = db_connect.start_conn()"
   ]
  },
  {
   "cell_type": "code",
   "execution_count": 33,
   "metadata": {},
   "outputs": [],
   "source": [
    "# rolling_all = proc.byBoro.pl_load_in(\"data/by_borough/\")\n",
    "rolling_all = pl.read_csv('data/by_borough/rolling_2003_2023.csv')\n",
    "rolling_all = rolling_all.with_columns(pl.col(\"TAX CLASS AT TIME OF SALE\").cast(pl.String))"
   ]
  },
  {
   "cell_type": "code",
   "execution_count": 34,
   "metadata": {},
   "outputs": [],
   "source": [
    "tax_class_diff = rolling_all.filter(pl.col(\"TAX CLASS AT PRESENT\") != pl.col(\"TAX CLASS AT TIME OF SALE\"))\n",
    "bld_class_diff = rolling_all.filter(pl.col(\"BUILDING CLASS AT PRESENT\") != pl.col(\"BUILDING CLASS AT TIME OF SALE\"))\n",
    "# rolling_all"
   ]
  },
  {
   "cell_type": "code",
   "execution_count": 35,
   "metadata": {},
   "outputs": [
    {
     "data": {
      "text/html": [
       "<div><style>\n",
       ".dataframe > thead > tr,\n",
       ".dataframe > tbody > tr {\n",
       "  text-align: right;\n",
       "  white-space: pre-wrap;\n",
       "}\n",
       "</style>\n",
       "<small>shape: (155_137, 6)</small><table border=\"1\" class=\"dataframe\"><thead><tr><th>BOROUGH</th><th>NEIGHBORHOOD</th><th>TAX CLASS AT PRESENT</th><th>TAX CLASS AT TIME OF SALE</th><th>SALE DATE</th><th>SALE PRICE</th></tr><tr><td>i64</td><td>str</td><td>str</td><td>str</td><td>str</td><td>i64</td></tr></thead><tbody><tr><td>2</td><td>&quot;BATHGATE&quot;</td><td>&quot;1B&quot;</td><td>&quot;1&quot;</td><td>&quot;2009-09-30&quot;</td><td>0</td></tr><tr><td>2</td><td>&quot;BATHGATE&quot;</td><td>&quot;1B&quot;</td><td>&quot;1&quot;</td><td>&quot;2009-09-30&quot;</td><td>0</td></tr><tr><td>2</td><td>&quot;BATHGATE&quot;</td><td>&quot;1B&quot;</td><td>&quot;1&quot;</td><td>&quot;2009-09-30&quot;</td><td>0</td></tr><tr><td>2</td><td>&quot;BATHGATE&quot;</td><td>&quot;2&quot;</td><td>&quot;1&quot;</td><td>&quot;2009-09-30&quot;</td><td>0</td></tr><tr><td>2</td><td>&quot;BATHGATE&quot;</td><td>&quot;2A&quot;</td><td>&quot;2&quot;</td><td>&quot;2009-04-17&quot;</td><td>10</td></tr><tr><td>&hellip;</td><td>&hellip;</td><td>&hellip;</td><td>&hellip;</td><td>&hellip;</td><td>&hellip;</td></tr><tr><td>5</td><td>&quot;WILLOWBROOK&quot;</td><td>&quot;1&quot;</td><td>&quot;2&quot;</td><td>&quot;2006-10-06&quot;</td><td>0</td></tr><tr><td>5</td><td>&quot;WILLOWBROOK&quot;</td><td>&quot;1&quot;</td><td>&quot;2&quot;</td><td>&quot;2006-01-24&quot;</td><td>0</td></tr><tr><td>5</td><td>&quot;WILLOWBROOK&quot;</td><td>&quot;1&quot;</td><td>&quot;2&quot;</td><td>&quot;2006-01-06&quot;</td><td>500000</td></tr><tr><td>5</td><td>&quot;WOODROW&quot;</td><td>&quot;4&quot;</td><td>&quot;1&quot;</td><td>&quot;2006-10-31&quot;</td><td>550000</td></tr><tr><td>5</td><td>&quot;WOODROW&quot;</td><td>&quot;4&quot;</td><td>&quot;1&quot;</td><td>&quot;2006-07-06&quot;</td><td>515000</td></tr></tbody></table></div>"
      ],
      "text/plain": [
       "shape: (155_137, 6)\n",
       "┌─────────┬──────────────┬──────────────────────┬────────────────────────┬────────────┬────────────┐\n",
       "│ BOROUGH ┆ NEIGHBORHOOD ┆ TAX CLASS AT PRESENT ┆ TAX CLASS AT TIME OF   ┆ SALE DATE  ┆ SALE PRICE │\n",
       "│ ---     ┆ ---          ┆ ---                  ┆ SALE                   ┆ ---        ┆ ---        │\n",
       "│ i64     ┆ str          ┆ str                  ┆ ---                    ┆ str        ┆ i64        │\n",
       "│         ┆              ┆                      ┆ str                    ┆            ┆            │\n",
       "╞═════════╪══════════════╪══════════════════════╪════════════════════════╪════════════╪════════════╡\n",
       "│ 2       ┆ BATHGATE     ┆ 1B                   ┆ 1                      ┆ 2009-09-30 ┆ 0          │\n",
       "│ 2       ┆ BATHGATE     ┆ 1B                   ┆ 1                      ┆ 2009-09-30 ┆ 0          │\n",
       "│ 2       ┆ BATHGATE     ┆ 1B                   ┆ 1                      ┆ 2009-09-30 ┆ 0          │\n",
       "│ 2       ┆ BATHGATE     ┆ 2                    ┆ 1                      ┆ 2009-09-30 ┆ 0          │\n",
       "│ 2       ┆ BATHGATE     ┆ 2A                   ┆ 2                      ┆ 2009-04-17 ┆ 10         │\n",
       "│ …       ┆ …            ┆ …                    ┆ …                      ┆ …          ┆ …          │\n",
       "│ 5       ┆ WILLOWBROOK  ┆ 1                    ┆ 2                      ┆ 2006-10-06 ┆ 0          │\n",
       "│ 5       ┆ WILLOWBROOK  ┆ 1                    ┆ 2                      ┆ 2006-01-24 ┆ 0          │\n",
       "│ 5       ┆ WILLOWBROOK  ┆ 1                    ┆ 2                      ┆ 2006-01-06 ┆ 500000     │\n",
       "│ 5       ┆ WOODROW      ┆ 4                    ┆ 1                      ┆ 2006-10-31 ┆ 550000     │\n",
       "│ 5       ┆ WOODROW      ┆ 4                    ┆ 1                      ┆ 2006-07-06 ┆ 515000     │\n",
       "└─────────┴──────────────┴──────────────────────┴────────────────────────┴────────────┴────────────┘"
      ]
     },
     "execution_count": 35,
     "metadata": {},
     "output_type": "execute_result"
    }
   ],
   "source": [
    "tax_cols = [\"BOROUGH\", \"NEIGHBORHOOD\", \"TAX CLASS AT PRESENT\", \"TAX CLASS AT TIME OF SALE\", \"SALE DATE\", \"SALE PRICE\"]\n",
    "tax_class_diff.select(pl.col(col) for col in tax_cols)"
   ]
  },
  {
   "cell_type": "code",
   "execution_count": 17,
   "metadata": {},
   "outputs": [],
   "source": [
    "import src"
   ]
  },
  {
   "cell_type": "code",
   "execution_count": null,
   "metadata": {},
   "outputs": [],
   "source": []
  }
 ],
 "metadata": {
  "kernelspec": {
   "display_name": "NYCprop_py312_env",
   "language": "python",
   "name": "python3"
  },
  "language_info": {
   "codemirror_mode": {
    "name": "ipython",
    "version": 3
   },
   "file_extension": ".py",
   "mimetype": "text/x-python",
   "name": "python",
   "nbconvert_exporter": "python",
   "pygments_lexer": "ipython3",
   "version": "3.12.8"
  }
 },
 "nbformat": 4,
 "nbformat_minor": 2
}
