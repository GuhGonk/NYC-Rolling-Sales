{
 "cells": [
  {
   "cell_type": "code",
   "execution_count": 3,
   "metadata": {},
   "outputs": [],
   "source": [
    "# DataFrames\n",
    "import numpy as np\n",
    "import pandas as pd\n",
    "import polars as pl\n",
    "\n",
    "# Graphing utilities\n",
    "import matplotlib.pyplot as plt\n",
    "from matplotlib.dates import YearLocator, DateFormatter\n",
    "import seaborn as sns\n",
    "import plotly.express as px\n",
    "import plotly.graph_objects as go\n",
    "from plotly.subplots import make_subplots\n",
    "import graphs\n",
    "\n",
    "# Data cleaning & Database\n",
    "from openpyxl import load_workbook\n",
    "import process as proc\n",
    "import db_connect\n",
    "# connection = db_connect.start_conn()"
   ]
  },
  {
   "cell_type": "code",
   "execution_count": 39,
   "metadata": {},
   "outputs": [
    {
     "name": "stdout",
     "output_type": "stream",
     "text": [
      "(10, 'data/by_borough\\\\2010_statenisland.xls') __ LOADED !\n",
      "(20, 'data/by_borough\\\\2012_statenisland.xls') __ LOADED !\n",
      "(30, 'data/by_borough\\\\2014_statenisland.xls') __ LOADED !\n",
      "(40, 'data/by_borough\\\\2016_statenisland.xls') __ LOADED !\n"
     ]
    },
    {
     "name": "stderr",
     "output_type": "stream",
     "text": [
      "Could not determine dtype for column 6, falling back to string\n",
      "Could not determine dtype for column 9, falling back to string\n",
      "Could not determine dtype for column 6, falling back to string\n",
      "Could not determine dtype for column 9, falling back to string\n",
      "Could not determine dtype for column 6, falling back to string\n",
      "Could not determine dtype for column 9, falling back to string\n",
      "Could not determine dtype for column 6, falling back to string\n",
      "Could not determine dtype for column 9, falling back to string\n",
      "Could not determine dtype for column 6, falling back to string\n",
      "Could not determine dtype for column 9, falling back to string\n"
     ]
    },
    {
     "name": "stdout",
     "output_type": "stream",
     "text": [
      "(50, 'data/by_borough\\\\2018_statenisland.xlsx') __ LOADED !\n"
     ]
    },
    {
     "name": "stderr",
     "output_type": "stream",
     "text": [
      "Could not determine dtype for column 6, falling back to string\n",
      "Could not determine dtype for column 6, falling back to string\n",
      "Could not determine dtype for column 9, falling back to string\n",
      "Could not determine dtype for column 6, falling back to string\n",
      "Could not determine dtype for column 6, falling back to string\n",
      "Could not determine dtype for column 6, falling back to string\n",
      "Could not determine dtype for column 9, falling back to string\n",
      "Could not determine dtype for column 6, falling back to string\n",
      "Could not determine dtype for column 6, falling back to string\n",
      "Could not determine dtype for column 6, falling back to string\n",
      "Could not determine dtype for column 6, falling back to string\n",
      "Could not determine dtype for column 6, falling back to string\n",
      "Could not determine dtype for column 9, falling back to string\n",
      "Could not determine dtype for column 6, falling back to string\n"
     ]
    },
    {
     "name": "stdout",
     "output_type": "stream",
     "text": [
      "(60, 'data/by_borough\\\\2020_staten_island.xlsx') __ LOADED !\n"
     ]
    },
    {
     "name": "stderr",
     "output_type": "stream",
     "text": [
      "Could not determine dtype for column 9, falling back to string\n",
      "Could not determine dtype for column 6, falling back to string\n",
      "Could not determine dtype for column 9, falling back to string\n",
      "Could not determine dtype for column 6, falling back to string\n",
      "Could not determine dtype for column 6, falling back to string\n",
      "Could not determine dtype for column 9, falling back to string\n",
      "Could not determine dtype for column 6, falling back to string\n",
      "Could not determine dtype for column 9, falling back to string\n",
      "Could not determine dtype for column 6, falling back to string\n",
      "Could not determine dtype for column 9, falling back to string\n",
      "Could not determine dtype for column 6, falling back to string\n",
      "Could not determine dtype for column 9, falling back to string\n",
      "Could not determine dtype for column 6, falling back to string\n",
      "Could not determine dtype for column 9, falling back to string\n",
      "Could not determine dtype for column 6, falling back to string\n",
      "Could not determine dtype for column 6, falling back to string\n",
      "Could not determine dtype for column 9, falling back to string\n",
      "Could not determine dtype for column 6, falling back to string\n",
      "Could not determine dtype for column 9, falling back to string\n"
     ]
    },
    {
     "name": "stdout",
     "output_type": "stream",
     "text": [
      "(70, 'data/by_borough\\\\2022_staten_island.xlsx') __ LOADED !\n"
     ]
    },
    {
     "name": "stderr",
     "output_type": "stream",
     "text": [
      "Could not determine dtype for column 6, falling back to string\n",
      "Could not determine dtype for column 9, falling back to string\n",
      "Could not determine dtype for column 6, falling back to string\n",
      "Could not determine dtype for column 6, falling back to string\n",
      "Could not determine dtype for column 6, falling back to string\n",
      "Could not determine dtype for column 9, falling back to string\n"
     ]
    },
    {
     "name": "stdout",
     "output_type": "stream",
     "text": [
      "(80, 'data/by_borough\\\\sales_2007_statenisland.xls') __ LOADED !\n",
      "(90, 'data/by_borough\\\\sales_brooklyn_03.xls') __ LOADED !\n",
      "(100, 'data/by_borough\\\\sales_queens_05.xls') __ LOADED !\n"
     ]
    }
   ],
   "source": [
    "rolling_all = proc.byBoro.pl_load_in(\"data/by_borough/\")"
   ]
  },
  {
   "cell_type": "code",
   "execution_count": 40,
   "metadata": {},
   "outputs": [],
   "source": [
    "rolling_all.write_csv('data/by_borough/rolling_2003_2023.csv')"
   ]
  }
 ],
 "metadata": {
  "kernelspec": {
   "display_name": "NYCprop_py312_env",
   "language": "python",
   "name": "python3"
  },
  "language_info": {
   "codemirror_mode": {
    "name": "ipython",
    "version": 3
   },
   "file_extension": ".py",
   "mimetype": "text/x-python",
   "name": "python",
   "nbconvert_exporter": "python",
   "pygments_lexer": "ipython3",
   "version": "3.12.8"
  }
 },
 "nbformat": 4,
 "nbformat_minor": 2
}
